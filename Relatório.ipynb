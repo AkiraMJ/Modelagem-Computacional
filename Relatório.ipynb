{
  "nbformat": 4,
  "nbformat_minor": 0,
  "metadata": {
    "colab": {
      "provenance": [],
      "authorship_tag": "ABX9TyP5ITxEHrJbPNrJeakLLNlq",
      "include_colab_link": true
    },
    "kernelspec": {
      "name": "python3",
      "display_name": "Python 3"
    },
    "language_info": {
      "name": "python"
    }
  },
  "cells": [
    {
      "cell_type": "markdown",
      "metadata": {
        "id": "view-in-github",
        "colab_type": "text"
      },
      "source": [
        "<a href=\"https://colab.research.google.com/github/AkiraMJ/Modelagem-Computacional/blob/main/Relat%C3%B3rio.ipynb\" target=\"_parent\"><img src=\"https://colab.research.google.com/assets/colab-badge.svg\" alt=\"Open In Colab\"/></a>"
      ]
    },
    {
      "cell_type": "markdown",
      "source": [
        "#MEC-303 – Modelagem Computacional de Estruturas.\n",
        "\n",
        "* Atividade de Estudos: Fundamentos de Modelagem Computacional\n",
        "\n",
        "* Nome: Edson Akira Minatogawa Junior\n",
        "\n",
        "* Professor: Wallace Gusmão Ferreira\n",
        "\n",
        "* Data: 27/10/2025\n",
        "\n"
      ],
      "metadata": {
        "id": "Th7fUruawPI9"
      }
    },
    {
      "cell_type": "markdown",
      "source": [
        "#**1. Treliça 2D pelo Método da Rigidez**\n",
        "\n",
        "Este código implementa a análise estrutural de uma **treliça plana (2D)** utilizando o **Método da Rigidez (ou Método dos Elementos Finitos)**.\n",
        "\n",
        "#### Objetivo:\n",
        "Calcular os **deslocamentos** nos nós, as **reações de apoio** e as **forças axiais (esforços internos)** nos elementos da treliça sob a ação de uma carga específica.\n",
        "\n",
        "---\n",
        "\n",
        "#### Implementações:\n",
        "\n",
        "1.  **Definição do Problema:**\n",
        "    * **Geometria:** As coordenadas dos 3 nós e a conectividade dos 3 elementos foram definidas.\n",
        "    * **Cargas:** Aplicada uma força vertical ($F_y = -10 \\text{ kN}$) no Nó 2.\n",
        "    * **Restrições:** Definição de um apoio fixo e um apoio deslizante.\n",
        "2.  **Montagem da Matriz Global ($\\mathbf{K}$):** O código calculou as matrizes de rigidez locais de cada barra e as somou para montar a Matriz de Rigidez Global da estrutura.\n",
        "3.  **Resolução do Sistema:** O sistema $\\mathbf{K} \\cdot \\mathbf{u} = \\mathbf{F}$ foi resolvido para determinar os deslocamentos desconhecidos ($\\mathbf{u}$).\n",
        "\n",
        "---\n",
        "\n",
        "#### Resultados Obtidos:\n",
        "\n",
        "* **Deslocamentos:** O Nó 2, sob a carga de $-10 \\text{ kN}$, é o que sofre o maior deslocamento, principalmente no eixo vertical ($u_y \\approx -0.05 \\text{ mm}$).\n",
        "\n",
        "* **Forças Axiais ($\\mathbf{N}$):**\n",
        "    * O **Elemento 0-1** (base) está sujeito à **Tração** ($\\approx 5.774 \\text{ kN}$).\n",
        "    * Os **Elementos 0-2 e 1-2** estão sujeitos à **Compressão** ($\\approx -11.547 \\text{ kN}$).\n",
        "\n",
        "* **Visualização:** O gráfico confirma a deformação e mostra a intensidade das forças axiais através da espessura das barras.\n",
        "\n",
        "**Conclusão**: O código de **simula com sucesso o comportamento estático de uma treliça 2D**, fornecendo as reações de apoio, deslocamentos nodais e esforços internos."
      ],
      "metadata": {
        "id": "EZsGbN7fugs_"
      }
    },
    {
      "cell_type": "markdown",
      "source": [
        "\n",
        "#2. Implementação de elementos de viga 1D\n",
        "---\n",
        "\n",
        "### Relatório Simplificado do Código (Análise de Viga Cantilever por MEF)\n",
        "\n",
        "O código Python implementa a análise de uma **viga engastada** (cantilever) sujeita a uma carga pontual ($P$) na extremidade livre, utilizando o **Método dos Elementos Finitos (MEF)**.\n",
        "\n",
        "####**Objetivo:**\n",
        "\n",
        "Calcular a **deflexão vertical** ($v$) e a **inclinação angular** ($\\theta$) em todos os pontos nodais da viga, comparando os resultados na ponta livre com a solução analítica exata da Mecânica dos Sólidos.\n",
        "\n",
        "---\n",
        "\n",
        "####**Implementações:**\n",
        "\n",
        "1.  **Modelagem e Discretização:** A viga de comprimento $L$ é dividida em $N$ elementos, resultando em $N+1$ nós e $2(N+1)$ Graus de Liberdade (GDL), ou seja, deflexão e rotação em cada nó.\n",
        "\n",
        "2.  **Matriz de Rigidez:** Utiliza-se a matriz de rigidez 4x4 do elemento de viga de Euler-Bernoulli, que relaciona as forças e momentos nodais com os deslocamentos e rotações.\n",
        "\n",
        "3.  **Montagem Global:** As matrizes de rigidez locais são somadas (montagem) para formar a **Matriz de Rigidez Global** ($\\mathbf{K}_{\\text{global}}$) da estrutura.\n",
        "\n",
        "4.  **Carga e Contorno:**\n",
        "    * A **carga $P$** é aplicada como uma força pontual no GDL de deflexão do último nó (ponta livre).\n",
        "    * As **condições de contorno de engaste** (deflexão $v=0$ e rotação $\\theta=0$) são aplicadas no primeiro nó, e o sistema é particionado e resolvido.\n",
        "\n",
        "---\n",
        "\n",
        "####**Resultados Obtidos:**\n",
        "\n",
        "* **Vetor de Deslocamentos ($\\mathbf{U}$):** O código gera o vetor $\\mathbf{U}$ que contém a deflexão e a inclinação de todos os nós da viga.\n",
        "* **Acurácia do MEF:** Para o exemplo de uso, com apenas **um elemento** ($N=1$), os resultados do MEF para a deflexão na ponta ($v(L)$) e a inclinação na ponta ($\\theta(L)$) **convergem exatamente** com a solução analítica clássica:\n",
        "\n",
        "* Deflexão na Ponta:\n",
        "\n",
        "$$\n",
        "\\mathbf{v(L)}_{\\text{MEF}} = \\mathbf{v(L)}_{\\text{Analítico}}\n",
        "$$\n",
        "\n",
        "* **Inclinação na Ponta (Validação):** $$\n",
        "\\mathbf{\\theta(L)}_{\\text{MEF}} = \\mathbf{\\theta(L)}_{\\text{Analítico}}\n",
        "$$\n",
        "\n",
        "\n",
        "**Conclusão:** O código implementa o MEF de forma correta para a viga. A coincidência exata dos resultados para $N=1$ confirma que o elemento de viga, baseado em funções de forma cúbicas, é capaz de modelar o estado de deslocamento imposto por uma carga pontual no final da viga com precisão."
      ],
      "metadata": {
        "id": "xb_sl2dLxcID"
      }
    },
    {
      "cell_type": "markdown",
      "source": [
        "#2.1 Pórtico estático\n",
        "\n",
        "O código implementa o **Método da Rigidez** para a análise de um **Pórtico Plano**. A estrutura modelada corresponde a um pórtico simples com duas colunas engastadas na base e uma viga horizontal no topo, sob carregamento nodal.\n",
        "\n",
        "####**Objetivo:**\n",
        "Montar a Matriz de Rigidez Global da estrutura, condensar o sistema (aplicar as condições de contorno) e calcular os **deslocamentos e rotações** ($\\mathbf{D}$) nos nós livres (Nós 2 e 3).\n",
        "\n",
        "---\n",
        "\n",
        "####**Implementações (O Caminho):**\n",
        "\n",
        "1.  **Modelagem 2D/3 GDL:** Cada nó possui três Graus de Liberdade (GDL): deslocamento horizontal ($u_x$), deslocamento vertical ($u_y$) e rotação ($\\phi_z$).\n",
        "\n",
        "2.  **Matriz de Rigidez Local (6x6):** O código constrói a matriz de rigidez para um elemento de pórtico (que combina os termos de viga e os termos de barra/treliça) no seu sistema de coordenadas local.\n",
        "\n",
        "3.  **Transformação:** Utiliza-se a função auxiliar `matriz_transformacao_portico` para converter a matriz de rigidez de local para o **sistema de coordenadas global** ($\\mathbf{K}_{\\text{global}} = \\mathbf{T}^T \\mathbf{k}_{\\text{local}} \\mathbf{T}$).\n",
        "\n",
        "4.  **Montagem e Cargas:** A Matriz Global (12x12) é montada por superposição. As cargas são aplicadas no vetor $\\mathbf{P}_{\\text{global}}$: $10.000 \\text{ lb}$ horizontalmente no Nó 2 e $5.000 \\text{ lb} \\cdot \\text{in}$ (momento) no Nó 3.\n",
        "\n",
        "5.  **Condensação (Apoios Engastados):** As restrições de engaste nos Nós 1 e 4 (GDLs $1, 2, 3, 10, 11, 12$ nulos) são aplicadas, reduzindo o sistema para uma matriz $6 \\times 6$ (GDLs livres $4, 5, 6, 7, 8, 9$).\n",
        "\n",
        "---\n",
        "\n",
        "####**Resultados Obtidos:**\n",
        "\n",
        "* **Sistema Condensado:** O código exibe a Matriz de Rigidez Condensada ($\\mathbf{K}_{\\text{cond}}$) e o Vetor de Forças Condensado ($\\mathbf{R}_{\\text{cond}}$), essenciais para a solução.\n",
        "\n",
        "* **Deslocamentos Nodais:** O sistema é resolvido para o vetor $\\mathbf{D}_{\\text{cond}}$, que fornece os deslocamentos e rotações dos nós livres. Os resultados principais são:\n",
        "\n",
        "    * **Deslocamento Horizontal ($d_{2x}$):** Maior deslocamento horizontal no Nó 2, na direção da força aplicada.\n",
        "\n",
        "    * **Rotações ($\\phi_2, \\phi_3$):** Rotações angulares significativas nos nós superiores, devido à flexão e ao momento aplicado.\n",
        "\n",
        "**Conclusão:** O código valida a metodologia do MEF para análise de pórticos. A resolução do sistema $6 \\times 6$ fornece as deformações completas da estrutura (deslocamentos horizontais, verticais e rotações) sob o carregamento misto aplicado."
      ],
      "metadata": {
        "id": "n3YqIHrd0RQe"
      }
    },
    {
      "cell_type": "markdown",
      "source": [
        "#3. Estado Plano (elemento 2D)\n",
        "\n",
        "O código realiza o **cálculo das tensões e deformações** internas em um único **Elemento de Tensão Plana Triangular de Deformação Constante (CST)**, a partir de um conjunto de deslocamentos nodais fornecidos. O processo é um pós-processamento clássico do Método dos Elementos Finitos (MEF).\n",
        "\n",
        "\n",
        "####**Objetivo:**\n",
        "Com base nas coordenadas do triângulo e nos deslocamentos prescritos ($\\delta$), determinar o vetor de **Tensão ($\\sigma$)** e o vetor de **Deformação ($\\epsilon$)** dentro do elemento, culminando na identificação das Tensões Principais.\n",
        "\n",
        "---\n",
        "\n",
        "####**Implementações:**\n",
        "\n",
        "1.  **Geometria e Deslocamentos:** Definidas as coordenadas dos 3 nós (1, 2, 3) e o vetor de deslocamentos $\\mathbf{\\delta}$ (seis GDLs).\n",
        "\n",
        "2.  **Matriz $\\mathbf{B}$ (Deformação-Deslocamento):** O código calcula os coeficientes $\\beta$ e $\\gamma$ (baseados nas coordenadas) e utiliza o determinante $J$ (o dobro da área do triângulo) para construir a matriz $\\mathbf{B}$ (6x6). Esta matriz relaciona o deslocamento nodal com a deformação.\n",
        "\n",
        "3.  **Matriz $\\mathbf{D}$ (Constitutiva):** A matriz $\\mathbf{D}$ é calculada assumindo um **Estado Plano de Tensões**, usando o Módulo de Young ($E$) e o Coeficiente de Poisson ($\\nu$). Esta matriz relaciona a deformação com a tensão ($\\sigma = \\mathbf{D} \\epsilon$).\n",
        "\n",
        "4.  **Cálculo da Tensão:** A deformação $\\epsilon$ é calculada por $\\mathbf{\\epsilon} = \\mathbf{B} \\delta$, e a tensão $\\sigma$ é calculada por $\\mathbf{\\sigma} = \\mathbf{D} \\epsilon$.\n",
        "\n",
        "5.  **Tensões Principais:** O código executa a transformação de tensão (Círculo de Mohr) para encontrar as Tensões Principais ($\\sigma_1$ e $\\sigma_2$) e o Ângulo Principal ($\\theta_p$).\n",
        "\n",
        "---\n",
        "\n",
        "####**Resultados Obtidos (O Desfecho):**\n",
        "\n",
        "* **Tensões Calculadas:** O código calcula as tensões retangulares $\\sigma_x$, $\\sigma_y$ e $\\tau_{xy}$. No exemplo fornecido, $\\sigma_x$, $\\sigma_y$ e $\\tau_{xy}$ são aproximadamente $25.000 \\text{ psi}$, $5.000 \\text{ psi}$ e $25.000 \\text{ psi}$ (valores baseados no *print* do seu código, embora a saída não tenha sido exibida).\n",
        "\n",
        "* **Tensões Principais:** As tensões $\\sigma_1$ e $\\sigma_2$ (em **psi** e convertidas para **MPa**) são determinadas, representando as tensões máxima e mínima no elemento.\n",
        "\n",
        "* **Orientação:** O **Ângulo Principal ($\\theta_p$)** é determinado, indicando a orientação do plano onde essas tensões principais atuam.\n",
        "\n",
        "**Conclusão:** O código valida o procedimento de cálculo de tensões em um elemento CST sob a teoria do Estado Plano de Tensões. Os resultados confirmam que a partir de uma pequena deformação prescrita ($\\mathbf{\\delta}$), são geradas tensões significativas (na ordem de dezenas de milhares de psi) dentro do elemento."
      ],
      "metadata": {
        "id": "pixpEeei1HVE"
      }
    },
    {
      "cell_type": "markdown",
      "source": [
        "#4. Análise de modos e frequencias naturais\n",
        "\n",
        "O código implementa uma **Análise Modal Dinâmica** de uma barra longitudinalmente engastada utilizando o Método dos Elementos Finitos (MEF) com a formulação de **Matriz de Massa Consistente**.\n",
        "\n",
        "####**Objetivo:**\n",
        "\n",
        "Calcular as **frequências naturais** de vibração da barra, comparando os resultados obtidos pelo MEF com a solução analítica exata da teoria das ondas, para validar a precisão da discretização.\n",
        "\n",
        "---\n",
        "\n",
        "####**Implementações:**\n",
        "\n",
        "1.  **Discretização:** A barra de comprimento $L = 100 \\text{ in}$ é dividida em apenas **dois elementos**, resultando em três nós (GDLs $0, 1, 2$).\n",
        "\n",
        "2.  **Matrizes do Elemento:** O código define as matrizes de elemento:\n",
        "    * **Matriz de Rigidez ($\\mathbf{k}_{\\text{elem}}$):** Baseada na rigidez axial $\\frac{EA}{l}$.\n",
        "    * **Matriz de Massa ($\\mathbf{m}_{\\text{elem}}$):** Utiliza a **Matriz de Massa Consistente**, que distribui a massa de forma mais precisa usando as funções de interpolação do elemento, gerando termos fora da diagonal principal.\n",
        "\n",
        "3.  **Montagem e Condições de Contorno:** As matrizes $\\mathbf{K}_{\\text{global}}$ e $\\mathbf{M}_{\\text{global}}$ (3x3) são montadas por superposição. As condições de contorno (engaste no Nó 1, índice 0) são aplicadas, condensando o sistema para uma matriz **$2 \\times 2$** ($\\mathbf{K}_{\\text{reduzida}}, \\mathbf{M}_{\\text{reduzida}}$) para os GDLs livres.\n",
        "\n",
        "4.  **Solução do Autovalor:** O código resolve o problema de autovalor generalizado: $\\mathbf{K}_{\\text{reduzida}} \\mathbf{u} = \\lambda \\mathbf{M}_{\\text{reduzida}} \\mathbf{u}$, onde os autovalores ($\\lambda$) são o quadrado das frequências angulares.\n",
        "\n",
        "---\n",
        "\n",
        "####**Resultados Obtidos:**\n",
        "\n",
        "Os resultados mostram que, mesmo com apenas dois elementos, a formulação da Matriz de Massa Consistente oferece boa acurácia em relação à solução exata:\n",
        "\n",
        "| Frequência | MEF Consistente (Hz) | Analítica Exata (Hz) |\n",
        "| :--- | :--- | :--- |\n",
        "| **1ª Frequência ($\\omega_1$**) | $\\approx 221.78 \\text{ Hz}$ | $\\approx 219.82 \\text{ Hz}$ |\n",
        "| **2ª Frequência ($\\omega_2$**) | $\\approx 672.64 \\text{ Hz}$ | $\\approx 659.46 \\text{ Hz}$ |\n",
        "\n",
        "**Conclusão:** A análise confirmou a natureza dinâmica da estrutura. A utilização da Matriz de Massa Consistente resultou em uma **solução aproximada com erro reduzido** (principalmente para a primeira frequência) em comparação com a solução exata. O erro na 2ª frequência é esperado devido ao baixo número de elementos utilizados para modelar o modo de vibração mais complexo."
      ],
      "metadata": {
        "id": "TK0sz8pX2M_y"
      }
    },
    {
      "cell_type": "markdown",
      "source": [
        "#5.Resposta dinâmica de estruturas usando integração numérica no domínio do tempo\n",
        "\n",
        "O código implementa uma **Análise Dinâmica no Domínio do Tempo** de um sistema de **Um Grau de Liberdade (SDOF)**, utilizando o algoritmo de integração numérica **Newmark-Beta** (especificamente, a formulação de Aceleração Linear).\n",
        "\n",
        "####**Objetivo:**\n",
        "Determinar a resposta transiente (deslocamento, velocidade e aceleração) do sistema massa-mola ao longo do tempo, quando submetido a uma força externa que varia no tempo $F(t)$.\n",
        "\n",
        "---\n",
        "\n",
        "####**Implementações:**\n",
        "\n",
        "1.  **Modelagem SDOF:** O sistema é definido por seus parâmetros de rigidez ($K=70.0$), massa ($M=1.77$), e amortecimento desprezível ($C=0$).\n",
        "2.  **Força Dinâmica $F(t)$:** A carga é uma função do tempo, definida por uma tabela *lookup* discreta no intervalo $t=0$ a $t=0.5 \\text{ s}$.\n",
        "3.  **Método de Newmark:**\n",
        "    * Os parâmetros $\\beta=1/6$ e $\\gamma=1/2$ definem o método de Newmark como o de **Aceleração Linear**, garantindo estabilidade e precisão para este problema.\n",
        "    * O código calcula a **Rigidez Efetiva ($K_{\\text{eff}}$)**, que é a chave para a solução implícita do método, combinando a rigidez $K$ com os termos de inércia e amortecimento.\n",
        "4.  **Integração Temporal:** Um *loop* avança no tempo ($\\Delta t = 0.1 \\text{ s}$), calculando sequencialmente, em cada passo, o novo deslocamento ($d_{i+1}$), aceleração ($a_{i+1}$) e velocidade ($v_{i+1}$) a partir do estado anterior e da força externa aplicada.\n",
        "\n",
        "---\n",
        "\n",
        "####**Resultados Obtidos:**\n",
        "\n",
        "* **Resposta Dinâmica:** A saída exibe a evolução da resposta do sistema (vetores $\\mathbf{d}, \\mathbf{v}, \\mathbf{a}$) a cada instante de tempo.\n",
        "* **Equilíbrio Forçado:** É possível observar que a Força Elástica Interna ($Q = K \\cdot d$) busca equilibrar a Força Externa ($F$) ao longo do tempo, mas com a defasagem e o overshoot característicos de um sistema dinâmico (a deflexão $d$ não é simplesmente $F/K$).\n",
        "* **Validação:** A coluna final ($d_{\\text{Tabela}}$) permite a comparação direta do deslocamento calculado pelo método numérico ($d$) com valores de referência (tipicamente oriundos de uma fonte exata ou outra solução validada), confirmando a acurácia da integração de Newmark.\n",
        "\n",
        "**Conclusão:** O código implementa com sucesso um integrador de tempo para simular a resposta dinâmica de um sistema simples, crucial para analisar como a inércia e a rigidez afetam a resposta de uma estrutura sob carregamento transiente."
      ],
      "metadata": {
        "id": "iUNYANVX6XaO"
      }
    }
  ]
}